{
 "cells": [
  {
   "cell_type": "markdown",
   "id": "f3d342a9",
   "metadata": {},
   "source": [
    "Multi-line Python cell without strings, just to make sure notebook cells are not accidentally changed:"
   ]
  },
  {
   "cell_type": "code",
   "execution_count": 1,
   "id": "ebb72f62",
   "metadata": {},
   "outputs": [],
   "source": [
    "a = 1\n",
    "b = 2\n",
    "c = a + b"
   ]
  },
  {
   "cell_type": "markdown",
   "id": "9ccaec06",
   "metadata": {},
   "source": [
    "Multi-line Python cell with a string to fix, just to make sure notebook cells can be correctly reconstructed:"
   ]
  },
  {
   "cell_type": "code",
   "execution_count": 2,
   "id": "1fbe0c01",
   "metadata": {},
   "outputs": [],
   "source": [
    "d = \"hello\"\n",
    "e = \"world\"\n",
    "f = \"hello 'world'\""
   ]
  },
  {
   "cell_type": "markdown",
   "id": "0ae6d462",
   "metadata": {},
   "source": [
    "Base cases:"
   ]
  },
  {
   "cell_type": "code",
   "execution_count": 3,
   "id": "80fcff95",
   "metadata": {},
   "outputs": [
    {
     "data": {
      "text/plain": [
       "'\\'\"\"\"'"
      ]
     },
     "execution_count": 3,
     "metadata": {},
     "output_type": "execute_result"
    }
   ],
   "source": [
    "'' + \"\" + \"\\'\" + \"\\\"\" + '\\\"\\\"'"
   ]
  },
  {
   "cell_type": "markdown",
   "id": "6556ef23",
   "metadata": {},
   "source": [
    "String somewhere in the line:"
   ]
  },
  {
   "cell_type": "code",
   "execution_count": 4,
   "id": "7f676729",
   "metadata": {},
   "outputs": [],
   "source": [
    "x = \"foo\""
   ]
  },
  {
   "cell_type": "markdown",
   "id": "f19cd463",
   "metadata": {},
   "source": [
    "Test escaped characters:"
   ]
  },
  {
   "cell_type": "code",
   "execution_count": 5,
   "id": "717cab5d",
   "metadata": {},
   "outputs": [
    {
     "data": {
      "text/plain": [
       "\"'\""
      ]
     },
     "execution_count": 5,
     "metadata": {},
     "output_type": "execute_result"
    }
   ],
   "source": [
    "\"\\'\""
   ]
  },
  {
   "cell_type": "markdown",
   "id": "d70877ff",
   "metadata": {},
   "source": [
    "Docstring"
   ]
  },
  {
   "cell_type": "code",
   "execution_count": 6,
   "id": "0bddf826",
   "metadata": {},
   "outputs": [
    {
     "data": {
      "text/plain": [
       "' Foo '"
      ]
     },
     "execution_count": 6,
     "metadata": {},
     "output_type": "execute_result"
    }
   ],
   "source": [
    "\"\"\" Foo \"\"\""
   ]
  },
  {
   "cell_type": "code",
   "execution_count": 7,
   "id": "3b42b721",
   "metadata": {},
   "outputs": [],
   "source": [
    "x = \" \\\n",
    "foo \\\n",
    "\""
   ]
  },
  {
   "cell_type": "code",
   "execution_count": 8,
   "id": "aa58b482",
   "metadata": {},
   "outputs": [
    {
     "data": {
      "text/plain": [
       "'foobar'"
      ]
     },
     "execution_count": 8,
     "metadata": {},
     "output_type": "execute_result"
    }
   ],
   "source": [
    "\"foo\"\"bar\""
   ]
  }
 ],
 "metadata": {
  "kernelspec": {
   "display_name": "Python 3 (ipykernel)",
   "language": "python",
   "name": "python3"
  },
  "language_info": {
   "codemirror_mode": {
    "name": "ipython",
    "version": 3
   },
   "file_extension": ".py",
   "mimetype": "text/x-python",
   "name": "python",
   "nbconvert_exporter": "python",
   "pygments_lexer": "ipython3",
   "version": "3.9.13"
  }
 },
 "nbformat": 4,
 "nbformat_minor": 5
}
